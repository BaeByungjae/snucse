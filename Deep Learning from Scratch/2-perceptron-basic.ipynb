{
 "cells": [
  {
   "cell_type": "code",
   "execution_count": 107,
   "metadata": {
    "collapsed": false,
    "deletable": true,
    "editable": true
   },
   "outputs": [
    {
     "name": "stdout",
     "output_type": "stream",
     "text": [
      "AND  : [0, 0, 0, 1]\n",
      "NAND : [1, 1, 1, 0]\n",
      "OR   : [0, 1, 1, 1]\n",
      "XOR  : [0, 1, 1, 0]\n"
     ]
    }
   ],
   "source": [
    "import numpy as np\n",
    "\n",
    "def perceptron(bias, *weight):\n",
    "    return lambda *input: 1 if bias + np.dot(input, weight) > 0 else 0\n",
    "\n",
    "AND = perceptron(-.7, .5, .5)\n",
    "NAND = perceptron(.7, -.5, -.5)\n",
    "OR = perceptron(-0.2, .5, .5)\n",
    "XOR = lambda *input: AND(NAND(*input), OR(*input))\n",
    "\n",
    "for name in ['AND', 'NAND', 'OR', 'XOR']:\n",
    "    fn = locals()[name]\n",
    "    print(f'{name:4} : {[fn(a, b) for a, b in np.ndindex(2, 2)]}')"
   ]
  }
 ],
 "metadata": {
  "kernelspec": {
   "display_name": "Python 3",
   "language": "python",
   "name": "python3"
  },
  "language_info": {
   "codemirror_mode": {
    "name": "ipython",
    "version": 3
   },
   "file_extension": ".py",
   "mimetype": "text/x-python",
   "name": "python",
   "nbconvert_exporter": "python",
   "pygments_lexer": "ipython3",
   "version": "3.6.0"
  }
 },
 "nbformat": 4,
 "nbformat_minor": 2
}
