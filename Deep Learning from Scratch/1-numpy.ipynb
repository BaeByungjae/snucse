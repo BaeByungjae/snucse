{
 "cells": [
  {
   "cell_type": "markdown",
   "metadata": {},
   "source": [
    "Numpy 연습\n",
    "========"
   ]
  },
  {
   "cell_type": "code",
   "execution_count": 1,
   "metadata": {
    "collapsed": false,
    "deletable": true,
    "editable": true
   },
   "outputs": [
    {
     "name": "stdout",
     "output_type": "stream",
     "text": [
      "<class 'numpy.ndarray'>\n",
      "int64\n",
      "[1 2 3]\n"
     ]
    }
   ],
   "source": [
    "import numpy as np\n",
    "\n",
    "# Numpy basics\n",
    "x = np.array([1, 2, 3])\n",
    "y = np.array([2, 4, 6])\n",
    "z = np.array([0.1, 0.2, 0.3, 0.4])\n",
    "\n",
    "print(type(x))\n",
    "print(x.dtype)\n",
    "print(x)"
   ]
  },
  {
   "cell_type": "code",
   "execution_count": 2,
   "metadata": {
    "collapsed": false,
    "deletable": true,
    "editable": true
   },
   "outputs": [
    {
     "name": "stdout",
     "output_type": "stream",
     "text": [
      "[3 6 9]\n",
      "[ 2  8 18]\n",
      "[ 0.5  0.5  0.5]\n",
      "operands could not be broadcast together with shapes (3,) (4,) \n"
     ]
    }
   ],
   "source": [
    "# Element-wise arithmetic\n",
    "print(x + y)\n",
    "print(x * y)\n",
    "print(x / y)\n",
    "try:\n",
    "    print(x + z)\n",
    "except ValueError as e:\n",
    "    print(e)"
   ]
  },
  {
   "cell_type": "code",
   "execution_count": 3,
   "metadata": {
    "collapsed": false,
    "deletable": true,
    "editable": true
   },
   "outputs": [
    {
     "name": "stdout",
     "output_type": "stream",
     "text": [
      "[2 4 6]\n",
      "[ 4  8 12]\n",
      "[ 0.5  1.   1.5]\n",
      "[3 4 5]\n",
      "[False  True False]\n"
     ]
    }
   ],
   "source": [
    "# Scalar arithmetic\n",
    "print(2 * x)\n",
    "print(y * 2)\n",
    "print(x / 2)\n",
    "print(x + 2)\n",
    "print(x % 2 == 0)"
   ]
  },
  {
   "cell_type": "code",
   "execution_count": 4,
   "metadata": {
    "collapsed": false,
    "deletable": true,
    "editable": true
   },
   "outputs": [
    {
     "name": "stdout",
     "output_type": "stream",
     "text": [
      "[[1 2]\n",
      " [3 4]]\n",
      "[[ 5 12]\n",
      " [21 32]]\n",
      "(2, 2)\n",
      "int64\n"
     ]
    }
   ],
   "source": [
    "# Multi-dimensional\n",
    "A = np.array([\n",
    "    [1, 2],\n",
    "    [3, 4],\n",
    "])\n",
    "B = np.array([\n",
    "    [5, 6],\n",
    "    [7, 8],\n",
    "])\n",
    "print(A)\n",
    "print(A * B)\n",
    "print(A.shape)\n",
    "print(A.dtype)"
   ]
  },
  {
   "cell_type": "code",
   "execution_count": 5,
   "metadata": {
    "collapsed": false,
    "deletable": true,
    "editable": true
   },
   "outputs": [
    {
     "name": "stdout",
     "output_type": "stream",
     "text": [
      "[[ 10 200]\n",
      " [ 30 400]]\n"
     ]
    }
   ],
   "source": [
    "# Broadcast\n",
    "A = np.array([\n",
    "    [1, 2],\n",
    "    [3, 4],\n",
    "])\n",
    "B = np.array([10, 100])\n",
    "print(A*B)"
   ]
  },
  {
   "cell_type": "code",
   "execution_count": 6,
   "metadata": {
    "collapsed": false,
    "deletable": true,
    "editable": true
   },
   "outputs": [
    {
     "name": "stdout",
     "output_type": "stream",
     "text": [
      "[[ 1  2  3]\n",
      " [ 4  5  6]\n",
      " [ 7  8  9]\n",
      " [10 11 12]]\n",
      "[ 1  2  3  4  5  6  7  8  9 10 11 12]\n",
      "[1 2 3]\n",
      "1\n",
      "1\n",
      "[1 2 3]-[4 5 6]-[7 8 9]-[10 11 12]\n",
      "[1 3 5]\n",
      "[1 3 5]\n"
     ]
    }
   ],
   "source": [
    "# Access\n",
    "A = np.array([\n",
    "    [1, 2, 3],\n",
    "    [4, 5, 6],\n",
    "    [7, 8, 9],\n",
    "    [10, 11, 12],\n",
    "])\n",
    "B = A.flatten()\n",
    "print(A)\n",
    "print(B)\n",
    "print(A[0])\n",
    "print(A[0][0])\n",
    "print(A[0, 0])\n",
    "print('-'.join([str(row) for row in A]))\n",
    "print(B[[0, 2, 4]])\n",
    "print(B[np.array([0, 2, 4])])"
   ]
  },
  {
   "cell_type": "code",
   "execution_count": 7,
   "metadata": {
    "collapsed": false,
    "deletable": true,
    "editable": true
   },
   "outputs": [
    {
     "name": "stdout",
     "output_type": "stream",
     "text": [
      "[ 1  2  3  4  5  6  7  8  9 10 11 12 13 14 15 16 17 18 19]\n",
      "[False False False False False False False False False False  True  True\n",
      "  True  True  True  True  True  True  True]\n",
      "[11 12 13 14 15 16 17 18 19]\n",
      "[ 3  4  5  6  7  8  9 10]\n",
      "[3 5 7 9]\n",
      "[11 10  9  8  7  6  5  4]\n",
      "[11 12 13 14 15 16 17 18 19]\n",
      "[11 10  9  8  7  6  5  4  3  2  1]\n",
      "[ 1  2  3  4  5  6  7  8  9 10]\n",
      "[19 18 17 16 15 14 13 12]\n"
     ]
    }
   ],
   "source": [
    "# Trick\n",
    "a = np.array([1, 2, 3, 4, 5, 6, 7, 8, 9, 10, 11, 12, 13, 14, 15, 16, 17, 18, 19])\n",
    "print(a)\n",
    "print(a > 10)\n",
    "print(a[a > 10])\n",
    "print(a[2:10])\n",
    "print(a[2:10:2])\n",
    "print(a[10:2:-1])\n",
    "print(a[10:])\n",
    "print(a[10::-1])\n",
    "print(a[:10])\n",
    "print(a[:10:-1])"
   ]
  },
  {
   "cell_type": "code",
   "execution_count": 8,
   "metadata": {
    "collapsed": false,
    "deletable": true,
    "editable": true
   },
   "outputs": [
    {
     "name": "stdout",
     "output_type": "stream",
     "text": [
      "[[ 1  2  3]\n",
      " [ 4  5  6]\n",
      " [ 7  8  9]\n",
      " [10 11 12]]\n",
      "[[ 1  4  7 10]\n",
      " [ 2  5  8 11]\n",
      " [ 3  6  9 12]]\n",
      "[1 2 3]\n",
      "[ 1  4  7 10]\n",
      "[ 2  5  8 11]\n",
      "[ 3  6  9 12]\n"
     ]
    }
   ],
   "source": [
    "# Column\n",
    "A = np.array([\n",
    "    [1, 2, 3],\n",
    "    [4, 5, 6],\n",
    "    [7, 8, 9],\n",
    "    [10, 11, 12],\n",
    "])\n",
    "print(A)\n",
    "print(A.transpose())\n",
    "print(A[0])\n",
    "print(A[...,0])\n",
    "print(A[...,1])\n",
    "print(A[...,2])"
   ]
  }
 ],
 "metadata": {
  "kernelspec": {
   "display_name": "Python 3",
   "language": "python",
   "name": "python3"
  },
  "language_info": {
   "codemirror_mode": {
    "name": "ipython",
    "version": 3
   },
   "file_extension": ".py",
   "mimetype": "text/x-python",
   "name": "python",
   "nbconvert_exporter": "python",
   "pygments_lexer": "ipython3",
   "version": "3.6.0"
  }
 },
 "nbformat": 4,
 "nbformat_minor": 2
}
