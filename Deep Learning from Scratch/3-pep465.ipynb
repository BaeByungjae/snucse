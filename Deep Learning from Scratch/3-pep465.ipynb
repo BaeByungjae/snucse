{
 "cells": [
  {
   "cell_type": "markdown",
   "metadata": {},
   "source": [
    "`@` 연산자\n",
    "--------\n",
    "\n",
    "[PEP 465](https://www.python.org/dev/peps/pep-0465/)의 통과로 Python 3.5부터 새로이 생겨난 중위연산자."
   ]
  },
  {
   "cell_type": "code",
   "execution_count": 4,
   "metadata": {
    "collapsed": false
   },
   "outputs": [
    {
     "name": "stdout",
     "output_type": "stream",
     "text": [
      "[[1284 1284  948]\n",
      " [3003 3003 2217]\n",
      " [4722 4722 3486]]\n",
      "\n",
      "[[1284 1284  948]\n",
      " [3003 3003 2217]\n",
      " [4722 4722 3486]]\n"
     ]
    }
   ],
   "source": [
    "import numpy as np\n",
    "\n",
    "a = np.array([\n",
    "    [1, 2, 3],\n",
    "    [4, 5, 6],\n",
    "    [7, 8, 9],\n",
    "])\n",
    "b = np.array([\n",
    "    [3, 2, 1], \n",
    "    [4, 3, 2], \n",
    "    [5, 4, 3],\n",
    "])\n",
    "c = np.array([\n",
    "    [3, 1, 2],\n",
    "    [4, 2, 3],\n",
    "    [5, 3, 4],\n",
    "])\n",
    "d = np.array([\n",
    "    [1, 3, 2],\n",
    "    [2, 4, 3],\n",
    "    [5, 1, 1],\n",
    "])\n",
    "\n",
    "# 위아래가 동치\n",
    "print(np.dot(np.dot(np.dot(a, b), c), d))\n",
    "print()\n",
    "print(a @ b @ c @ d)"
   ]
  },
  {
   "cell_type": "markdown",
   "metadata": {},
   "source": [
    "###### References\n",
    "\n",
    "- [What’s New In Python 3.5](https://docs.python.org/3/whatsnew/3.5.html#whatsnew-pep-465)\n",
    "- [PEP 465](https://www.python.org/dev/peps/pep-0465/)"
   ]
  }
 ],
 "metadata": {
  "kernelspec": {
   "display_name": "Python 3",
   "language": "python",
   "name": "python3"
  },
  "language_info": {
   "codemirror_mode": {
    "name": "ipython",
    "version": 3
   },
   "file_extension": ".py",
   "mimetype": "text/x-python",
   "name": "python",
   "nbconvert_exporter": "python",
   "pygments_lexer": "ipython3",
   "version": "3.6.0"
  }
 },
 "nbformat": 4,
 "nbformat_minor": 2
}
