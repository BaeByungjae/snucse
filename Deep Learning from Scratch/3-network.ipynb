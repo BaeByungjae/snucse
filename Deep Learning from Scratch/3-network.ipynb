{
 "cells": [
  {
   "cell_type": "markdown",
   "metadata": {
    "deletable": true,
    "editable": true
   },
   "source": [
    "Chapter 3. 신경망\n",
    "--------\n",
    "\n",
    "### A. 간단한 신경망 구현\n",
    "\n",
    "레이어 하나짜리 신경망은 `Y = AX` 로 표현할 수 있음\n",
    "\n",
    "<img align=left width=200 src=\"img/3-simple-network.jpg\">"
   ]
  },
  {
   "cell_type": "code",
   "execution_count": 1,
   "metadata": {
    "collapsed": false,
    "deletable": true,
    "editable": true,
    "scrolled": true
   },
   "outputs": [
    {
     "name": "stdout",
     "output_type": "stream",
     "text": [
      "x: [1 0]\ty: [1 3 5]\n",
      "x: [0 1]\ty: [2 4 6]\n",
      "x: [2 3]\ty: [ 8 18 28]\n"
     ]
    }
   ],
   "source": [
    "import numpy as np\n",
    "\n",
    "def simple_network(x):\n",
    "    return x @ np.array([\n",
    "        [1, 3, 5],\n",
    "        [2, 4, 6],\n",
    "    ])\n",
    "\n",
    "do = lambda *args: (lambda x: print(f'x: {x}\\ty: {simple_network(x)}'))(np.array(args))\n",
    "do(1, 0)\n",
    "do(0, 1)\n",
    "do(2, 3)"
   ]
  },
  {
   "cell_type": "markdown",
   "metadata": {
    "collapsed": true,
    "deletable": true,
    "editable": true
   },
   "source": [
    "### B. 죠금 더 복잡한 신경망 구현\n",
    "\n",
    "위에꺼를 여러번 겹치면 레이어 여러개가 된다. 근데 편향을 넣으면 `Y = AX`가 `Y = AX + B`가 됨. 레이어마다 액티베이션 펑션을 넣으면 `Z = f(AX + B)`가 됨.\n",
    "\n",
    "<img align=left src=\"img/3-network.jpg\">"
   ]
  },
  {
   "cell_type": "code",
   "execution_count": 23,
   "metadata": {
    "collapsed": false,
    "deletable": true,
    "editable": true
   },
   "outputs": [
    {
     "name": "stdout",
     "output_type": "stream",
     "text": [
      "결과 : [ 0.31682708  0.69627909]\n",
      "중간레이어 :\n",
      "  - [ 1.   0.5]\n",
      "  - [ 0.57444252  0.66818777  0.75026011]\n",
      "  - [ 0.62624937  0.7710107 ]\n",
      "  - [ 0.31682708  0.69627909]\n",
      "\n"
     ]
    }
   ],
   "source": [
    "sigmoid = lambda x: 1/(1 + np.exp(-x))\n",
    "ident = lambda x: x\n",
    "\n",
    "def network(X):\n",
    "    # Network constants\n",
    "    W1 = np.array([\n",
    "        [0.1, 0.3, 0.5],\n",
    "        [0.2, 0.4, 0.6],\n",
    "    ])\n",
    "    B1 = np.array([0.1, 0.2, 0.3])\n",
    "\n",
    "    W2 = np.array([\n",
    "        [0.1, 0.4],\n",
    "        [0.2, 0.5],\n",
    "        [0.3, 0.6],\n",
    "    ])\n",
    "    B2 = np.array([0.1, 0.2])\n",
    "\n",
    "    W3 = np.array([\n",
    "        [0.1, 0.3],\n",
    "        [0.2, 0.4],\n",
    "    ])\n",
    "    B3 = np.array([0.1, 0.2])\n",
    "\n",
    "    # A = XW + B\n",
    "    Z1 = sigmoid(X@W1 + B1)\n",
    "    Z2 = sigmoid(Z1@W2 + B2)\n",
    "    Y = ident(Z2@W3 + B3)\n",
    "    \n",
    "    return Y, [X, Z1, Z2, Y]\n",
    "\n",
    "def do(fn):\n",
    "    result, layers = fn(np.array([1.0, 0.5]))\n",
    "    print(f'결과 : {result}')\n",
    "    print('중간레이어 :')\n",
    "    print('\\n'.join([f'  - {str(layer)}' for layer in layers]))\n",
    "    print()\n",
    "    \n",
    "do(network)"
   ]
  },
  {
   "cell_type": "markdown",
   "metadata": {
    "deletable": true,
    "editable": true
   },
   "source": [
    "이때 비동차 벡터를 쓰면 레이어 하나를 어파인 변환(`Y = AX + B`)이 아니라 선형 변환(`Y' = A'X'`)으로 만들 수 있지 않을까?"
   ]
  },
  {
   "cell_type": "code",
   "execution_count": 26,
   "metadata": {
    "collapsed": false,
    "deletable": true,
    "editable": true
   },
   "outputs": [
    {
     "name": "stdout",
     "output_type": "stream",
     "text": [
      "결과 : [ 0.31682708  0.69627909]\n",
      "중간레이어 :\n",
      "  - [ 1.   0.5]\n",
      "  - [ 0.57444252  0.66818777  0.75026011]\n",
      "  - [ 0.62624937  0.7710107 ]\n",
      "  - [ 0.31682708  0.69627909]\n",
      "\n",
      "결과 : [ 0.31682708  0.69627909]\n",
      "중간레이어 :\n",
      "  - [ 1.   0.5  1. ]\n",
      "  - [ 0.57444252  0.66818777  0.75026011  1.        ]\n",
      "  - [ 0.62624937  0.7710107   1.        ]\n",
      "  - [ 0.31682708  0.69627909  1.        ]\n",
      "\n"
     ]
    }
   ],
   "source": [
    "def network_homogeneous(X_orig):\n",
    "    # Change input as a homogeneous vector\n",
    "    X = np.append(X_orig, 1)\n",
    "    \n",
    "    # Network constants\n",
    "    W1 = np.array([\n",
    "        [0.1, 0.3, 0.5, 0],\n",
    "        [0.2, 0.4, 0.6, 0],\n",
    "        [0.1, 0.2, 0.3, 1],\n",
    "    ])\n",
    "    W2 = np.array([\n",
    "        [0.1, 0.4, 0],\n",
    "        [0.2, 0.5, 0],\n",
    "        [0.3, 0.6, 0],\n",
    "        [0.1, 0.2, 1],\n",
    "    ])\n",
    "    W3 = np.array([\n",
    "        [0.1, 0.3, 0],\n",
    "        [0.2, 0.4, 0],\n",
    "        [0.1, 0.2, 1],\n",
    "    ])\n",
    "    \n",
    "    # A' = X'W'\n",
    "    Z1 = sigmoid(X @ W1)\n",
    "    Z1[-1] = 1\n",
    "    Z2 = sigmoid(Z1 @ W2)\n",
    "    Z2[-1] = 1\n",
    "    Y = ident(Z2 @ W3)    \n",
    "    \n",
    "    return Y[0:-1], [X, Z1, Z2, Y]\n",
    "\n",
    "\n",
    "do(network)\n",
    "do(network_homogeneous)"
   ]
  },
  {
   "cell_type": "markdown",
   "metadata": {
    "deletable": true,
    "editable": true
   },
   "source": [
    "### C. 소프트맥스 구현\n",
    "\n",
    "출력층에서는 은닉층과 다른 함수를 쓴다. 리그레션에서는 항등함수를, 분류에서는 소프트맥스를 쓴다고함. 소프트맥스를 짜보자.\n",
    "\n",
    "<!-- https://www.codecogs.com/latex/eqneditor.php -->\n",
    "\n",
    "$$y_k = \\frac{exp(a_k)}{\\sum_{i=1}^{n}exp(a_i)}$$"
   ]
  },
  {
   "cell_type": "code",
   "execution_count": 34,
   "metadata": {
    "collapsed": false,
    "deletable": true,
    "editable": true
   },
   "outputs": [
    {
     "data": {
      "text/plain": [
       "array([ 0.01821127,  0.24519181,  0.73659691])"
      ]
     },
     "execution_count": 34,
     "metadata": {},
     "output_type": "execute_result"
    }
   ],
   "source": [
    "def softmax_naive(A):\n",
    "    ExpA = np.exp(A)\n",
    "    return ExpA / np.sum(ExpA)\n",
    "    \n",
    "softmax_naive(np.array([0.3, 2.9, 4.0]))"
   ]
  },
  {
   "cell_type": "markdown",
   "metadata": {
    "deletable": true,
    "editable": true
   },
   "source": [
    "이때 분자 부모에 같은 값의 상수를 더해서, 부동소수점 오차를 줄일 수 있다.\n",
    "\n",
    "$$\n",
    "\\begin{align*}\n",
    "y_k = \\frac{exp(a_k)}{\\sum_{i=1}^{n}exp(a_i)} &= \\frac{Cexp(a_k)}{C\\sum_{i=1}^{n}exp(a_i)} \\\\\n",
    "&= \\frac{exp(a_k + logC)}{\\sum_{i=1}^{n}exp(a_i + logC)} \\\\\n",
    "&= \\frac{exp(a_k + C')}{\\sum_{i=1}^{n}exp(a_i + C')}\n",
    "\\end{align*}\n",
    "$$"
   ]
  },
  {
   "cell_type": "code",
   "execution_count": 39,
   "metadata": {
    "collapsed": false,
    "deletable": true,
    "editable": true
   },
   "outputs": [
    {
     "name": "stdout",
     "output_type": "stream",
     "text": [
      "[ 0.01821127  0.24519181  0.73659691]\n",
      "[ 0.01821127  0.24519181  0.73659691]\n"
     ]
    }
   ],
   "source": [
    "def softmax(A):\n",
    "    ExpA = np.exp(A - np.max(A))\n",
    "    return ExpA / np.sum(ExpA)\n",
    "\n",
    "# 두 함수의 결과가 같다\n",
    "print(softmax_naive(np.array([0.3, 2.9, 4.0])))\n",
    "print(softmax(np.array([0.3, 2.9, 4.0])))"
   ]
  }
 ],
 "metadata": {
  "kernelspec": {
   "display_name": "Python 3",
   "language": "python",
   "name": "python3"
  },
  "language_info": {
   "codemirror_mode": {
    "name": "ipython",
    "version": 3
   },
   "file_extension": ".py",
   "mimetype": "text/x-python",
   "name": "python",
   "nbconvert_exporter": "python",
   "pygments_lexer": "ipython3",
   "version": "3.6.0"
  }
 },
 "nbformat": 4,
 "nbformat_minor": 2
}
