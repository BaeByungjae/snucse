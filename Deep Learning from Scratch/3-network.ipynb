{
 "cells": [
  {
   "cell_type": "markdown",
   "metadata": {},
   "source": [
    "Chapter 3. 신경망\n",
    "--------\n",
    "\n",
    "간단한 신경망 예시\n",
    "\n",
    "<img align=left width=200 src=\"img/3-simple-network.jpg\">"
   ]
  },
  {
   "cell_type": "code",
   "execution_count": 36,
   "metadata": {
    "collapsed": false
   },
   "outputs": [
    {
     "name": "stdout",
     "output_type": "stream",
     "text": [
      "x: [1 0]\ty: [1 3 5]\n",
      "x: [0 1]\ty: [2 4 6]\n",
      "x: [2 3]\ty: [ 8 18 28]\n"
     ]
    }
   ],
   "source": [
    "import numpy as np\n",
    "\n",
    "def simple_network(x):\n",
    "    return x @ np.array([\n",
    "        [1, 3, 5],\n",
    "        [2, 4, 6],\n",
    "    ])\n",
    "\n",
    "do = lambda *args: (lambda x: print(f'x: {x}\\ty: {simple_network(x)}'))(np.array(args))\n",
    "do(1, 0)\n",
    "do(0, 1)\n",
    "do(2, 3)"
   ]
  }
 ],
 "metadata": {
  "kernelspec": {
   "display_name": "Python 3",
   "language": "python",
   "name": "python3"
  },
  "language_info": {
   "codemirror_mode": {
    "name": "ipython",
    "version": 3
   },
   "file_extension": ".py",
   "mimetype": "text/x-python",
   "name": "python",
   "nbconvert_exporter": "python",
   "pygments_lexer": "ipython3",
   "version": "3.6.0"
  }
 },
 "nbformat": 4,
 "nbformat_minor": 2
}
