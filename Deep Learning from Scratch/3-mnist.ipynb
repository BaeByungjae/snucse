{
 "cells": [
  {
   "cell_type": "markdown",
   "metadata": {
    "deletable": true,
    "editable": true
   },
   "source": [
    "손글씨 글자인식 연습\n",
    "========\n",
    "\n",
    "MNIST 데이터셋을 사용하여 글자인식을 연습해보자"
   ]
  },
  {
   "cell_type": "code",
   "execution_count": 1,
   "metadata": {
    "collapsed": false,
    "deletable": true,
    "editable": true
   },
   "outputs": [
    {
     "data": {
      "image/png": "[encoded data removed]",
      "text/plain": [
       "<matplotlib.figure.Figure at 0x7f263c196b70>"
      ]
     },
     "metadata": {},
     "output_type": "display_data"
    }
   ],
   "source": [
    "import numpy as np\n",
    "import matplotlib.pylab as plt\n",
    "import mnist\n",
    "\n",
    "fig, subplots = plt.subplots(2, 5)\n",
    "\n",
    "# MNIST 데이터셋 로드\n",
    "MNIST = mnist.load(one_hot_label=False)\n",
    "images = MNIST['train_img']\n",
    "sample = images[np.random.choice(images.shape[0], subplots.size)]\n",
    "\n",
    "for i, subplot in enumerate(subplots.flatten()):\n",
    "    subplot.imshow(sample[i].reshape(28, -1))\n",
    "plt.show()\n",
    "plt.close(fig)"
   ]
  },
  {
   "cell_type": "code",
   "execution_count": 2,
   "metadata": {
    "collapsed": false,
    "deletable": true,
    "editable": true
   },
   "outputs": [
    {
     "name": "stdout",
     "output_type": "stream",
     "text": [
      "데이터 로드 ... 완료!\n",
      "\n",
      "정답률 : 93.52%\n"
     ]
    }
   ],
   "source": [
    "import lzma\n",
    "import pickle\n",
    "from common import sigmoid, softmax\n",
    "\n",
    "#\n",
    "# Load data\n",
    "#\n",
    "print('데이터 로드 ... ', end='')\n",
    "# 미리 학습된 네트워크를 로드함\n",
    "with lzma.open('3-mnist-sample-weight.pkl.xz') as pickled_file:\n",
    "    DATA = pickle.load(pickled_file)\n",
    "def predict(input_image):\n",
    "    Z1 = sigmoid(input_image @ DATA['W1'] + DATA['b1'])\n",
    "    Z2 = sigmoid(Z1 @ DATA['W2'] + DATA['b2'])\n",
    "    return softmax(Z2 @ DATA['W3'] + DATA['b3'])\n",
    "print('완료!\\n')\n",
    "\n",
    "#\n",
    "# 정확도 측정\n",
    "#\n",
    "accuracy = (predict(MNIST['test_img']).argmax(axis=1) == MNIST['test_label']).mean()\n",
    "print(f'정답률 : {accuracy*100:.05}%')"
   ]
  }
 ],
 "metadata": {
  "kernelspec": {
   "display_name": "Python 3",
   "language": "python",
   "name": "python3"
  },
  "language_info": {
   "codemirror_mode": {
    "name": "ipython",
    "version": 3
   },
   "file_extension": ".py",
   "mimetype": "text/x-python",
   "name": "python",
   "nbconvert_exporter": "python",
   "pygments_lexer": "ipython3",
   "version": "3.6.0"
  }
 },
 "nbformat": 4,
 "nbformat_minor": 2
}
