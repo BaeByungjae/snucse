{
 "cells": [
  {
   "cell_type": "markdown",
   "metadata": {
    "deletable": true,
    "editable": true
   },
   "source": [
    "신경망 학습\n",
    "========\n",
    "학습을 해보자! 학습을 하려면, 제일 먼저 지금 학습이 얼마나 잘 되었는지를 수치로 평가해주는 **손실 함수**<small>loss function</small>가 필요하다. 많이 쓰이는 손실 함수 두개를 직접 구현해보자.\n",
    "\n",
    "### 평균 제곱 오차 <small>Mean squared error, MSE</small>\n",
    "$${\\rm MSE}(y, t) = \\frac1n \\sum_k^n (y_k - t_k)^2$$"
   ]
  },
  {
   "cell_type": "code",
   "execution_count": 1,
   "metadata": {
    "collapsed": true,
    "deletable": true,
    "editable": true
   },
   "outputs": [],
   "source": [
    "def mean_squared_error(expected, actual):\n",
    "    return ((expected - actual)**2).mean(axis=0)"
   ]
  },
  {
   "cell_type": "markdown",
   "metadata": {
    "deletable": true,
    "editable": true
   },
   "source": [
    "### 교차 엔트로피 오차 <small>Cross entropy error, CEE</small>\n",
    "$${\\rm CEE}(y, t) = - \\sum_k t_k {\\rm log}_2 y_k$$"
   ]
  },
  {
   "cell_type": "code",
   "execution_count": 2,
   "metadata": {
    "collapsed": true,
    "deletable": true,
    "editable": true
   },
   "outputs": [],
   "source": [
    "def cross_entropy_error(expected, actual):\n",
    "    epsilon = 1E-7\n",
    "    return -np.sum(actual * np.log(expected + epsilon), axis=0) "
   ]
  },
  {
   "cell_type": "markdown",
   "metadata": {
    "deletable": true,
    "editable": true
   },
   "source": [
    "### 미니배치 학습\n",
    "교차 엔트로피 오차 수식을 살짝만 바꿔서, 미니배치용 손실함수를 만들어서 쓰면 된다.\n",
    "\n",
    "$${\\rm CEE}(y, t) = - \\frac1N \\sum_i^N \\sum_k t_{ik} {\\rm log}_2 y_{ik}$$"
   ]
  },
  {
   "cell_type": "code",
   "execution_count": 3,
   "metadata": {
    "collapsed": false,
    "deletable": true,
    "editable": true
   },
   "outputs": [],
   "source": [
    "import numpy as np\n",
    "import mnist\n",
    "\n",
    "# Load training images\n",
    "MNIST = mnist.load()\n",
    "train_img = MNIST['train_img']\n",
    "train_label = MNIST['train_label']\n",
    "\n",
    "# Randomly sample 10 images from the training set\n",
    "batch_size = 10\n",
    "subset = np.random.choice(train_img.shape[0], batch_size)\n",
    "batch_img = train_img[subset]\n",
    "batch_label = train_label[subset]\n",
    "\n",
    "# Cross entropy error function for batch input\n",
    "def cross_entropy_error(expected, actual):\n",
    "    if expected.ndim == 1:\n",
    "        expected = expected.reshape(1, expected.size)\n",
    "        actual = actual.reshape(1, actual.size)\n",
    "    \n",
    "    batch_size = expected.shape[0]\n",
    "    return -np.sum(actual * np.log(expected), axis=0) / batch_size"
   ]
  },
  {
   "cell_type": "markdown",
   "metadata": {
    "deletable": true,
    "editable": true
   },
   "source": [
    "### 수치 미분 <small>Numerical differentiation</small>\n",
    "중앙 차분법을 쓸것이다.\n",
    "\n",
    "$$f'(x) \\simeq \\frac{f(x+h) - f(x-h)}{2h}$$"
   ]
  },
  {
   "cell_type": "code",
   "execution_count": 8,
   "metadata": {
    "collapsed": false,
    "deletable": true,
    "editable": true
   },
   "outputs": [
    {
     "name": "stdout",
     "output_type": "stream",
     "text": [
      "해석적 미분 : 0.2\n",
      "수치 미분   : 0.1999999999990898\n",
      "\n",
      "해석적 미분 : 0.30000000000000004\n",
      "수치 미분   : 0.2999999999986347\n",
      "\n",
      "해석적 미분 : 0.4\n",
      "수치 미분   : 0.4000000000026205\n",
      "\n"
     ]
    }
   ],
   "source": [
    "def numerical_diff(f):\n",
    "    h = 1E-4\n",
    "    return lambda x: (f(x+h) - f(x-h))/(2*h)\n",
    "\n",
    "func = lambda x: 0.01 * x**2 + 0.1 * x\n",
    "diff = numerical_diff(func)\n",
    "diff_real = lambda x: 0.02 * x + 0.1\n",
    "\n",
    "def do(x):\n",
    "    print(f'해석적 미분 : {diff_real(x)}')\n",
    "    print(f'수치 미분   : {diff(x)}')\n",
    "    print()\n",
    "do(5)\n",
    "do(10)\n",
    "do(15)"
   ]
  },
  {
   "cell_type": "markdown",
   "metadata": {
    "deletable": true,
    "editable": true
   },
   "source": [
    "### 편미분\n",
    "걍 하면 된다"
   ]
  },
  {
   "cell_type": "code",
   "execution_count": null,
   "metadata": {
    "collapsed": true,
    "deletable": true,
    "editable": true
   },
   "outputs": [],
   "source": []
  },
  {
   "cell_type": "markdown",
   "metadata": {
    "deletable": true,
    "editable": true
   },
   "source": [
    "###### References\n",
    "- https://www.codecogs.com/latex/eqneditor.php"
   ]
  }
 ],
 "metadata": {
  "kernelspec": {
   "display_name": "Python 3",
   "language": "python",
   "name": "python3"
  },
  "language_info": {
   "codemirror_mode": {
    "name": "ipython",
    "version": 3
   },
   "file_extension": ".py",
   "mimetype": "text/x-python",
   "name": "python",
   "nbconvert_exporter": "python",
   "pygments_lexer": "ipython3",
   "version": "3.6.0"
  }
 },
 "nbformat": 4,
 "nbformat_minor": 2
}
