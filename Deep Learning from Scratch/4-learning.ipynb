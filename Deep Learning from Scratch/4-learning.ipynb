{
 "cells": [
  {
   "cell_type": "markdown",
   "metadata": {
    "deletable": true,
    "editable": true
   },
   "source": [
    "신경망 학습\n",
    "========\n",
    "학습을 해보자! 학습을 하려면, 제일 먼저 지금 학습이 얼마나 잘 되었는지를 수치로 평가해주는 **손실 함수**<small>loss function</small>가 필요하다. 많이 쓰이는 손실 함수 두개를 직접 구현해보자.\n",
    "\n",
    "수식은 [codecogs의 수식편집기](https://www.codecogs.com/latex/eqneditor.php)를 써서 작성하였다.\n",
    "\n",
    "### 평균 제곱 오차 <small>Mean squared error, MSE</small>\n",
    "$${\\displaystyle \n",
    "{\\rm MSE}(y, t) = \\frac1n \\sum_k^n (y_k - t_k)^2\n",
    "}$$"
   ]
  },
  {
   "cell_type": "code",
   "execution_count": 49,
   "metadata": {
    "collapsed": false,
    "deletable": true,
    "editable": true
   },
   "outputs": [
    {
     "name": "stdout",
     "output_type": "stream",
     "text": [
      "정확도가 높은 경우 : 0.008600000000000002\n",
      "정확도가 낮은 경우 : 0.5552666666666667\n"
     ]
    }
   ],
   "source": [
    "import numpy as np\n",
    "\n",
    "def mean_squared_error(expected, actual):\n",
    "    return ((expected - actual)**2).mean(axis=0)\n",
    "\n",
    "expected = np.array((0.08, 0.87, 0.05))\n",
    "actual = np.array((0, 1, 0))\n",
    "print(f'정확도가 높은 경우 : {mean_squared_error(expected, actual)}')\n",
    "\n",
    "expected = np.array((0.08, 0.87, 0.05))\n",
    "actual = np.array((0, 0, 1))\n",
    "print(f'정확도가 낮은 경우 : {mean_squared_error(expected, actual)}')"
   ]
  },
  {
   "cell_type": "markdown",
   "metadata": {
    "deletable": true,
    "editable": true
   },
   "source": [
    "### 교차 엔트로피 오차 <small>Cross entropy error, CEE</small>\n",
    "$${\\displaystyle \n",
    "{\\rm CEE}(y, t) = - \\sum_k t_k {\\rm log}_2 y_k\n",
    "}$$"
   ]
  },
  {
   "cell_type": "code",
   "execution_count": 50,
   "metadata": {
    "collapsed": false,
    "deletable": true,
    "editable": true
   },
   "outputs": [
    {
     "name": "stdout",
     "output_type": "stream",
     "text": [
      "정확도가 높은 경우 : 0.13926195239098557\n",
      "정확도가 낮은 경우 : 2.9957302735559908\n"
     ]
    }
   ],
   "source": [
    "def cross_entropy_error(expected, actual):\n",
    "    epsilon = 1E-7\n",
    "    return -(actual * np.log(expected + epsilon)).sum(axis=0)\n",
    "\n",
    "\n",
    "expected = np.array((0.08, 0.87, 0.05))\n",
    "actual = np.array((0, 1, 0))\n",
    "print(f'정확도가 높은 경우 : {cross_entropy_error(expected, actual)}')\n",
    "\n",
    "expected = np.array((0.08, 0.87, 0.05))\n",
    "actual = np.array((0, 0, 1))\n",
    "print(f'정확도가 낮은 경우 : {cross_entropy_error(expected, actual)}')"
   ]
  },
  {
   "cell_type": "markdown",
   "metadata": {
    "deletable": true,
    "editable": true
   },
   "source": [
    "### 미니배치 학습\n",
    "교차 엔트로피 오차 수식을 살짝만 바꿔서, 미니배치용 손실함수를 만들어서 쓰면 된다.\n",
    "\n",
    "$${\\displaystyle \n",
    "{\\rm CEE}(y, t) = - \\frac1N \\sum_i^N \\sum_k t_{ik} {\\rm log}_2 y_{ik}\n",
    "}$$"
   ]
  },
  {
   "cell_type": "code",
   "execution_count": 56,
   "metadata": {
    "collapsed": false,
    "deletable": true,
    "editable": true
   },
   "outputs": [
    {
     "name": "stdout",
     "output_type": "stream",
     "text": [
      "손실율 : [ 0.03884461  0.04642069  0.0581178 ]\n"
     ]
    }
   ],
   "source": [
    "# Cross entropy error function for batch input\n",
    "def cross_entropy_error(expected, actual):\n",
    "    if expected.ndim == 1:\n",
    "        expected = expected.reshape(1, expected.size)\n",
    "        actual = actual.reshape(1, actual.size)\n",
    "    \n",
    "    batch_size = expected.shape[0]\n",
    "    return -np.sum(actual * np.log(expected), axis=0) / batch_size\n",
    "\n",
    "# 3개 입력에 대한 손실함수를 한번에 계산함\n",
    "expected_batch = np.array([\n",
    "    (0.08, 0.87, 0.05),\n",
    "    (0.89, 0.06, 0.05),\n",
    "    (0.04, 0.12, 0.84),\n",
    "])\n",
    "actual_batch = np.array([\n",
    "    (0, 1, 0),\n",
    "    (1, 0, 0),\n",
    "    (0, 0, 1),\n",
    "])\n",
    "print(f'손실율 : {cross_entropy_error(expected_batch, actual_batch)}')"
   ]
  },
  {
   "cell_type": "markdown",
   "metadata": {
    "deletable": true,
    "editable": true
   },
   "source": [
    "### 수치 미분 <small>Numerical differentiation</small>\n",
    "중앙 차분법을 쓸것이다.\n",
    "\n",
    "$${\\displaystyle \n",
    "f'(x) \\simeq \\frac{f(x+h) - f(x-h)}{2h} \\text{ where } h \\text{ is small enough}\n",
    "}$$"
   ]
  },
  {
   "cell_type": "code",
   "execution_count": 4,
   "metadata": {
    "collapsed": false,
    "deletable": true,
    "editable": true,
    "scrolled": true
   },
   "outputs": [
    {
     "name": "stdout",
     "output_type": "stream",
     "text": [
      "해석적 미분 : 0.2\n",
      "수치 미분   : 0.1999999999990898\n",
      "\n",
      "해석적 미분 : 0.30000000000000004\n",
      "수치 미분   : 0.2999999999986347\n",
      "\n",
      "해석적 미분 : 0.4\n",
      "수치 미분   : 0.4000000000026205\n",
      "\n"
     ]
    }
   ],
   "source": [
    "def derivate(f, h=1E-4):\n",
    "    \"\"\"\n",
    "    미분 연산자. 이 함수의 파라미터로 미분하고싶은 함수를 넘기면, 도함수가 결과로 나온다.\n",
    "\n",
    "    .. code-block:: python\n",
    "\n",
    "       linear = lambda x: x**2 + 2*x + 1\n",
    "       deriv = derivate(linear)\n",
    "\n",
    "       deriv(0) # 2\n",
    "       deriv(2) # 6\n",
    "    \"\"\"\n",
    "    return lambda x: (f(x+h) - f(x-h))/(2*h)\n",
    "\n",
    "func = lambda x: 0.01 * x**2 + 0.1 * x\n",
    "deriv = derivate(func)\n",
    "deriv_analytic = lambda x: 0.02 * x + 0.1\n",
    "\n",
    "for x in 5, 10, 15:\n",
    "    print(f'해석적 미분 : {deriv_analytic(x)}')\n",
    "    print(f'수치 미분   : {deriv(x)}')\n",
    "    print()"
   ]
  },
  {
   "cell_type": "markdown",
   "metadata": {
    "deletable": true,
    "editable": true
   },
   "source": [
    "### 편미분\n",
    "걍 하면 된다\n",
    "\n",
    "$${\\displaystyle \n",
    "\\begin{align}\n",
    "\\frac{\\partial f}{\\partial x_i}(a_1,\\ldots,a_n) \\simeq & \\frac{f(a_1,\\ldots,a_i+h,\\ldots,a_n) - f(a_1,\\ldots, a_i-h, \\dots,a_n)}{2h}\n",
    "\\\\ & \\text{ where } h \\text{ is small enough}\n",
    "\\end{align}\n",
    "}$$"
   ]
  },
  {
   "cell_type": "code",
   "execution_count": 5,
   "metadata": {
    "collapsed": false,
    "deletable": true,
    "editable": true
   },
   "outputs": [
    {
     "name": "stdout",
     "output_type": "stream",
     "text": [
      "해석적 편미분 : 2\n",
      "수치 편미분   : 1.9999999999953388\n",
      "\n",
      "해석적 편미분 : 8\n",
      "수치 편미분   : 8.00000000005241\n",
      "\n",
      "해석적 편미분 : 14\n",
      "수치 편미분   : 13.999999999896318\n",
      "\n"
     ]
    }
   ],
   "source": [
    "def partial_derivate(f, nth, h=1E-4):\n",
    "    \"\"\"\n",
    "    편미분 연산자.\n",
    "\n",
    "    이 함수의 파라미터로 편미분하고싶은 함수와, 몇번째 파라미터를 기준으로 편미분할지 \n",
    "    전달하면, 편도함수가 결과로 나온다.\n",
    "\n",
    "    .. code-block:: python\n",
    "\n",
    "       surface = lambda a, b: a**2 + b**2\n",
    "       partial = partial_derivate(surface, 0)\n",
    "\n",
    "       partial(1, 2) # 2\n",
    "       partial(2, 3) # 4\n",
    "    \"\"\"\n",
    "    def func(*args):\n",
    "        param1, param2 = list(args), list(args)\n",
    "        param1[nth] += h\n",
    "        param2[nth] -= h\n",
    "        return (f(*param1) - f(*param2))/(2*h)\n",
    "    return func\n",
    "\n",
    "func = lambda a, b, c: a**2 + b**2 + c**2\n",
    "partial = partial_derivate(func, 0)\n",
    "partial_analytic = lambda a, b, c: 2*a\n",
    "\n",
    "for args in (1, 2, 3), (4, 5, 6), (7, 8, 9):\n",
    "    print(f'해석적 편미분 : {partial_analytic(*args)}')\n",
    "    print(f'수치 편미분   : {partial(*args)}')\n",
    "    print()"
   ]
  },
  {
   "cell_type": "markdown",
   "metadata": {
    "deletable": true,
    "editable": true
   },
   "source": [
    "하지만 우리가 이를 제대로 활용하려면, 다인자 함수이더라도 입력을 하나의 numpy 배열로 받는 함수로 만들어야한다. 이하는 `partial_derivate` 함수의 numpy 버전이다."
   ]
  },
  {
   "cell_type": "code",
   "execution_count": 79,
   "metadata": {
    "collapsed": false,
    "deletable": true,
    "editable": true
   },
   "outputs": [
    {
     "name": "stdout",
     "output_type": "stream",
     "text": [
      "해석적 편미분 : 2\n",
      "수치 편미분   : 1.9999999999953388\n",
      "\n",
      "해석적 편미분 : 8\n",
      "수치 편미분   : 8.00000000005241\n",
      "\n",
      "해석적 편미분 : 14\n",
      "수치 편미분   : 13.999999999896318\n",
      "\n"
     ]
    }
   ],
   "source": [
    "def partial_derivate(f, nth, h=1E-4):\n",
    "    \"\"\"\n",
    "    편미분 연산자.\n",
    "\n",
    "    이 함수의 파라미터로 편미분하고싶은 함수와, 몇번째 파라미터를 기준으로 편미분할지 \n",
    "    전달하면, 편도함수가 결과로 나온다.\n",
    "\n",
    "    .. code-block:: python\n",
    "\n",
    "       surface = lambda args: (args**2).sum(axis=0)\n",
    "       partial = partial_derivate(surface, 0)\n",
    "\n",
    "       partial(np.array([1, 2])) # 2\n",
    "       partial(np.array([2, 3])) # 4\n",
    "    \"\"\"\n",
    "    def func(args):\n",
    "        param1 = args.astype(float)\n",
    "        param2 = param1.copy()\n",
    "        param1[nth] += h\n",
    "        param2[nth] -= h\n",
    "        return (f(param1) - f(param2))/(2*h)\n",
    "    return func\n",
    "\n",
    "func = lambda args: (args**2).sum(axis=0)\n",
    "partial = partial_derivate(func, 0)\n",
    "partial_analytic = lambda args: 2*args[0]\n",
    "\n",
    "for args in (1, 2, 3), (4, 5, 6), (7, 8, 9):\n",
    "    param = np.array(args)\n",
    "    print(f'해석적 편미분 : {partial_analytic(param)}')\n",
    "    print(f'수치 편미분   : {partial(param)}')\n",
    "    print()"
   ]
  },
  {
   "cell_type": "markdown",
   "metadata": {
    "deletable": true,
    "editable": true
   },
   "source": [
    "### 그래디언트 <small>Gradient</small>\n",
    "각 성분에 대한 편미분으로 구성된 열벡터이다.\n",
    "\n",
    "$${\\displaystyle\n",
    "\\nabla f=\\left({\\frac {\\partial f}{\\partial x_{1}}},\\dots ,{\\frac {\\partial f}{\\partial x_{n}}}\\right)\n",
    "}$$"
   ]
  },
  {
   "cell_type": "code",
   "execution_count": 94,
   "metadata": {
    "collapsed": false,
    "deletable": true,
    "editable": true
   },
   "outputs": [
    {
     "name": "stdout",
     "output_type": "stream",
     "text": [
      "해석적 그래디언트 : [2 4 6]\n",
      "수치 그래디언트   : [ 2.  4.  6.]\n",
      "\n",
      "해석적 그래디언트 : [ 8 10 12]\n",
      "수치 그래디언트   : [  8.  10.  12.]\n",
      "\n",
      "해석적 그래디언트 : [14 16 18]\n",
      "수치 그래디언트   : [ 14.  16.  18.]\n",
      "\n"
     ]
    }
   ],
   "source": [
    "import inspect\n",
    "\n",
    "def grad(f, h=1E-4):\n",
    "    \"\"\"\n",
    "    델(∇) 연산자. nabla 연산자의 인자로 스칼라 함수를 넣으면, 그 함수의 그래디언트가 반환된다.\n",
    "    \n",
    "    .. code-block:: python\n",
    "    \n",
    "       surface = lambda a, b: a**2 + b**2\n",
    "       gradient = grad(surface)\n",
    "       \n",
    "       gradient(np.array([1, 2])) # array([2, 4])\n",
    "       gradient(np.array([2, 3])) # array([4, 6])\n",
    "    \"\"\"\n",
    "    def func(args):\n",
    "        if func.components is None:\n",
    "            func.components = [partial_derivate(f, i) for i in range(args.shape[-1])]\n",
    "        return np.fromiter((component(args) for component in func.components), float)\n",
    "    func.components = None\n",
    "    return func\n",
    "    \n",
    "func = lambda args: (args**2).sum(axis=0)\n",
    "gradient = grad(func)\n",
    "gradient_analytic = lambda args: 2*args\n",
    "\n",
    "for args in (1, 2, 3), (4, 5, 6), (7, 8, 9):\n",
    "    param = np.array(args)\n",
    "    print(f'해석적 그래디언트 : {gradient_analytic(param)}')\n",
    "    print(f'수치 그래디언트   : {gradient(param)}')\n",
    "    print()"
   ]
  },
  {
   "cell_type": "markdown",
   "metadata": {
    "deletable": true,
    "editable": true
   },
   "source": [
    "### 경사법 <small>Gradient method</small>\n",
    "기울기가 얕아지는쪽으로 계속 이동하여, local minima/maxima를 찾아보자.\n",
    "\n",
    "$${\\displaystyle\n",
    "x' = x - \\eta \\nabla f (x) \\\\\n",
    "}$$\n",
    "\n",
    "저기서 $f$를 목적함수<small>Objective function</small>라고 부르며, $\\eta$는 학습률<small>Learning rate</small>이라고 부른다."
   ]
  },
  {
   "cell_type": "code",
   "execution_count": 153,
   "metadata": {
    "collapsed": false,
    "deletable": true,
    "editable": true
   },
   "outputs": [
    {
     "data": {
      "image/png": "[encoded data removed]",
      "text/plain": [
       "<matplotlib.figure.Figure at 0x7f8decf3e0f0>"
      ]
     },
     "metadata": {},
     "output_type": "display_data"
    }
   ],
   "source": [
    "import matplotlib.pyplot as plt\n",
    "\n",
    "def grad_descent(f, x=4, eta=0.07, iteration=100):\n",
    "    gradient = grad(f)\n",
    "    results = np.empty((iteration, 2))\n",
    "    for i in range(iteration):\n",
    "        x = x - eta * gradient(np.array([x]))\n",
    "        y = func(x)\n",
    "        results[i,0] = x\n",
    "        results[i,1] = f(x)\n",
    "    return results[-1], results\n",
    "\n",
    "func = lambda x: (x-2)**2\n",
    "result, process = grad_descent(func)\n",
    "\n",
    "plt.figure(1, figsize=(9,7)).subplots_adjust(left=0.10, bottom=0.09, top=0.98, right=0.98)\n",
    "x = x = np.arange(0, 4, 0.01)\n",
    "y = func(x)\n",
    "plt.plot(x, y, label='Object function')\n",
    "\n",
    "plt.scatter(process[...,0], process[...,1], color='orange', label='Gradient descent')\n",
    "\n",
    "plt.legend()\n",
    "plt.show()"
   ]
  },
  {
   "cell_type": "code",
   "execution_count": null,
   "metadata": {
    "collapsed": true,
    "deletable": true,
    "editable": true
   },
   "outputs": [],
   "source": [
    "# TODO\n",
    "import mnist\n",
    "\n",
    "# Load training images\n",
    "MNIST = mnist.load()\n",
    "train_img = MNIST['train_img']\n",
    "train_label = MNIST['train_label']\n",
    "\n",
    "# Randomly sample 10 images from the training set\n",
    "batch_size = 10\n",
    "subset = np.random.choice(train_img.shape[0], batch_size)\n",
    "batch_img = train_img[subset]\n",
    "batch_label = train_label[subset]"
   ]
  }
 ],
 "metadata": {
  "kernelspec": {
   "display_name": "Python 3",
   "language": "python",
   "name": "python3"
  },
  "language_info": {
   "codemirror_mode": {
    "name": "ipython",
    "version": 3
   },
   "file_extension": ".py",
   "mimetype": "text/x-python",
   "name": "python",
   "nbconvert_exporter": "python",
   "pygments_lexer": "ipython3",
   "version": "3.6.0"
  }
 },
 "nbformat": 4,
 "nbformat_minor": 2
}
