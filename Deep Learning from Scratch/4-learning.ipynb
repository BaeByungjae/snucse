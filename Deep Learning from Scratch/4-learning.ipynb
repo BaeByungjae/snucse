{
 "cells": [
  {
   "cell_type": "markdown",
   "metadata": {
    "deletable": true,
    "editable": true
   },
   "source": [
    "신경망 학습\n",
    "========\n",
    "학습을 해보자! 학습을 하려면, 제일 먼저 지금 학습이 얼마나 잘 되었는지를 수치로 평가해주는 **손실 함수**<small>loss function</small>가 필요하다. 많이 쓰이는 손실 함수 두개를 직접 구현해보자.\n",
    "\n",
    "### 평균 제곱 오차 <small>Mean squared error, MSE</small>\n",
    "$${\\displaystyle \n",
    "{\\rm MSE}(y, t) = \\frac1n \\sum_k^n (y_k - t_k)^2\n",
    "}$$"
   ]
  },
  {
   "cell_type": "code",
   "execution_count": 1,
   "metadata": {
    "collapsed": true,
    "deletable": true,
    "editable": true
   },
   "outputs": [],
   "source": [
    "def mean_squared_error(expected, actual):\n",
    "    return ((expected - actual)**2).mean(axis=0)"
   ]
  },
  {
   "cell_type": "markdown",
   "metadata": {
    "deletable": true,
    "editable": true
   },
   "source": [
    "### 교차 엔트로피 오차 <small>Cross entropy error, CEE</small>\n",
    "$${\\displaystyle \n",
    "{\\rm CEE}(y, t) = - \\sum_k t_k {\\rm log}_2 y_k\n",
    "}$$"
   ]
  },
  {
   "cell_type": "code",
   "execution_count": 2,
   "metadata": {
    "collapsed": true,
    "deletable": true,
    "editable": true
   },
   "outputs": [],
   "source": [
    "def cross_entropy_error(expected, actual):\n",
    "    epsilon = 1E-7\n",
    "    return -np.sum(actual * np.log(expected + epsilon), axis=0) "
   ]
  },
  {
   "cell_type": "markdown",
   "metadata": {
    "deletable": true,
    "editable": true
   },
   "source": [
    "### 미니배치 학습\n",
    "교차 엔트로피 오차 수식을 살짝만 바꿔서, 미니배치용 손실함수를 만들어서 쓰면 된다.\n",
    "\n",
    "$${\\displaystyle \n",
    "{\\rm CEE}(y, t) = - \\frac1N \\sum_i^N \\sum_k t_{ik} {\\rm log}_2 y_{ik}\n",
    "}$$"
   ]
  },
  {
   "cell_type": "code",
   "execution_count": 3,
   "metadata": {
    "collapsed": false,
    "deletable": true,
    "editable": true
   },
   "outputs": [],
   "source": [
    "import numpy as np\n",
    "import mnist\n",
    "\n",
    "# Load training images\n",
    "MNIST = mnist.load()\n",
    "train_img = MNIST['train_img']\n",
    "train_label = MNIST['train_label']\n",
    "\n",
    "# Randomly sample 10 images from the training set\n",
    "batch_size = 10\n",
    "subset = np.random.choice(train_img.shape[0], batch_size)\n",
    "batch_img = train_img[subset]\n",
    "batch_label = train_label[subset]\n",
    "\n",
    "# Cross entropy error function for batch input\n",
    "def cross_entropy_error(expected, actual):\n",
    "    if expected.ndim == 1:\n",
    "        expected = expected.reshape(1, expected.size)\n",
    "        actual = actual.reshape(1, actual.size)\n",
    "    \n",
    "    batch_size = expected.shape[0]\n",
    "    return -np.sum(actual * np.log(expected), axis=0) / batch_size"
   ]
  },
  {
   "cell_type": "markdown",
   "metadata": {
    "deletable": true,
    "editable": true
   },
   "source": [
    "### 수치 미분 <small>Numerical differentiation</small>\n",
    "중앙 차분법을 쓸것이다.\n",
    "\n",
    "$${\\displaystyle \n",
    "f'(x) \\simeq \\frac{f(x+h) - f(x-h)}{2h} \\text{ where } h \\text{ is small enough}\n",
    "}$$"
   ]
  },
  {
   "cell_type": "code",
   "execution_count": 28,
   "metadata": {
    "collapsed": false,
    "deletable": true,
    "editable": true
   },
   "outputs": [
    {
     "name": "stdout",
     "output_type": "stream",
     "text": [
      "해석적 미분 : 0.2\n",
      "수치 미분   : 0.1999999999990898\n",
      "\n",
      "해석적 미분 : 0.30000000000000004\n",
      "수치 미분   : 0.2999999999986347\n",
      "\n",
      "해석적 미분 : 0.4\n",
      "수치 미분   : 0.4000000000026205\n",
      "\n"
     ]
    }
   ],
   "source": [
    "def derivate(f, h=1E-4):\n",
    "    \"\"\"\n",
    "    미분 연산자. 이 함수의 파라미터로 미분하고싶은 함수를 넘기면, 도함수가 결과로 나온다.\n",
    "\n",
    "    .. code-block:: python\n",
    "\n",
    "       linear = lambda x: x**2 + 2*x + 1\n",
    "       deriv = derivate(linear)\n",
    "\n",
    "       deriv(0) # 2\n",
    "       deriv(2) # 6\n",
    "    \"\"\"\n",
    "    return lambda x: (f(x+h) - f(x-h))/(2*h)\n",
    "\n",
    "func = lambda x: 0.01 * x**2 + 0.1 * x\n",
    "deriv = derivate(func)\n",
    "deriv_analytic = lambda x: 0.02 * x + 0.1\n",
    "\n",
    "for x in 5, 10, 15:\n",
    "    print(f'해석적 미분 : {deriv_analytic(x)}')\n",
    "    print(f'수치 미분   : {deriv(x)}')\n",
    "    print()"
   ]
  },
  {
   "cell_type": "markdown",
   "metadata": {
    "deletable": true,
    "editable": true
   },
   "source": [
    "### 편미분\n",
    "걍 하면 된다\n",
    "\n",
    "$${\\displaystyle \n",
    "\\begin{align}\n",
    "\\frac{\\partial f}{\\partial x_i}(a_1,\\ldots,a_n) \\simeq & \\frac{f(a_1,\\ldots,a_i+h,\\ldots,a_n) - f(a_1,\\ldots, a_i-h, \\dots,a_n)}{2h}\n",
    "\\\\ & \\text{ where } h \\text{ is small enough}\n",
    "\\end{align}\n",
    "}$$"
   ]
  },
  {
   "cell_type": "code",
   "execution_count": 29,
   "metadata": {
    "collapsed": false,
    "deletable": true,
    "editable": true
   },
   "outputs": [
    {
     "name": "stdout",
     "output_type": "stream",
     "text": [
      "해석적 편미분 : 2\n",
      "수치 편미분   : 1.9999999999953388\n",
      "\n",
      "해석적 편미분 : 8\n",
      "수치 편미분   : 8.00000000005241\n",
      "\n",
      "해석적 편미분 : 14\n",
      "수치 편미분   : 13.999999999896318\n",
      "\n"
     ]
    }
   ],
   "source": [
    "def partial_derivative(f, nth, h=1E-4):\n",
    "    \"\"\"\n",
    "    편미분 연산자. 이 함수의 파라미터로 편미분하고싶은 함수와, 몇번째 파라미터를 기준으로\n",
    "    편미분할지 전달하면, 편도함수가 결과로 나온다.\n",
    "\n",
    "    .. code-block:: python\n",
    "\n",
    "       surface = lambda a, b: a**2 + b**2\n",
    "       partial = partial_derivative(surface, 0)\n",
    "\n",
    "       partial(1, 2) # 2\n",
    "       partial(2, 3) # 4\n",
    "    \"\"\"\n",
    "    def func(*args):\n",
    "        param1, param2 = list(args), list(args)\n",
    "        param1[nth] += h\n",
    "        param2[nth] -= h\n",
    "        return (f(*param1) - f(*param2))/(2*h)\n",
    "    return func\n",
    "\n",
    "func = lambda a, b, c: a**2 + b**2 + c**2\n",
    "partial = partial_derivative(func, 0)\n",
    "partial_analytic = lambda a, b, c: 2*a\n",
    "\n",
    "for args in (1, 2, 3), (4, 5, 6), (7, 8, 9):\n",
    "    print(f'해석적 편미분 : {partial_analytic(*args)}')\n",
    "    print(f'수치 편미분   : {partial(*args)}')\n",
    "    print()"
   ]
  },
  {
   "cell_type": "markdown",
   "metadata": {},
   "source": [
    "### 그래디언트 <small>Gradient</small>\n",
    "각 성분에 대한 편미분으로 구성된 열벡터이다.\n",
    "\n",
    "$${\\displaystyle\n",
    "\\nabla f=\\left({\\frac {\\partial f}{\\partial x_{1}}},\\dots ,{\\frac {\\partial f}{\\partial x_{n}}}\\right)\n",
    "}$$"
   ]
  },
  {
   "cell_type": "code",
   "execution_count": 60,
   "metadata": {
    "collapsed": false
   },
   "outputs": [
    {
     "name": "stdout",
     "output_type": "stream",
     "text": [
      "해석적 그래디언트 : (2, 4, 6)\n",
      "수치 그래디언트   : (1.9999999999953388, 3.9999999999995595, 6.000000000012662)\n",
      "\n",
      "해석적 그래디언트 : (8, 10, 12)\n",
      "수치 그래디언트   : (8.00000000005241, 9.999999999976694, 11.999999999972033)\n",
      "\n",
      "해석적 그래디언트 : (14, 16, 18)\n",
      "수치 그래디언트   : (13.999999999896318, 15.99999999996271, 18.000000000029104)\n",
      "\n"
     ]
    }
   ],
   "source": [
    "import inspect\n",
    "\n",
    "def grad(f, h=1E-4):\n",
    "    \"\"\"\n",
    "    델(∇) 연산자. nabla 연산자의 인자로 스칼라 함수를 넣으면, 그 함수의 그래디언트가 반환된다.\n",
    "    \n",
    "    .. code-block:: python\n",
    "    \n",
    "       surface = lambda a, b: a**2 + b**2\n",
    "       gradient = grad(surface)\n",
    "       \n",
    "       gradient(1, 2) # (2, 4)\n",
    "       gradient(2, 3) # (4, 6)\n",
    "    \"\"\"\n",
    "    derivs = tuple(partial_derivative(func, i) for i in range(len(inspect.signature(func).parameters)))\n",
    "    return lambda *args: tuple(deriv(*args) for deriv in derivs)\n",
    "    \n",
    "func = lambda a, b, c: a**2 + b**2 + c**2\n",
    "gradient = grad(func)\n",
    "gradient_analytic = lambda a, b, c: (2*a, 2*b, 2*c)\n",
    "\n",
    "for args in (1, 2, 3), (4, 5, 6), (7, 8, 9):\n",
    "    print(f'해석적 그래디언트 : {gradient_analytic(*args)}')\n",
    "    print(f'수치 그래디언트   : {gradient(*args)}')\n",
    "    print()"
   ]
  },
  {
   "cell_type": "markdown",
   "metadata": {
    "deletable": true,
    "editable": true
   },
   "source": [
    "###### References\n",
    "- https://www.codecogs.com/latex/eqneditor.php"
   ]
  }
 ],
 "metadata": {
  "kernelspec": {
   "display_name": "Python 3",
   "language": "python",
   "name": "python3"
  },
  "language_info": {
   "codemirror_mode": {
    "name": "ipython",
    "version": 3
   },
   "file_extension": ".py",
   "mimetype": "text/x-python",
   "name": "python",
   "nbconvert_exporter": "python",
   "pygments_lexer": "ipython3",
   "version": "3.6.0"
  }
 },
 "nbformat": 4,
 "nbformat_minor": 2
}
